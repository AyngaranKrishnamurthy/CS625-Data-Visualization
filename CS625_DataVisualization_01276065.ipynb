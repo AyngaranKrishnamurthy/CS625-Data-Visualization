{
  "nbformat": 4,
  "nbformat_minor": 0,
  "metadata": {
    "colab": {
      "provenance": [],
      "authorship_tag": "ABX9TyPBdw2lXylYtjJ3iXW/gDoZ",
      "include_colab_link": true
    },
    "kernelspec": {
      "name": "python3",
      "display_name": "Python 3"
    },
    "language_info": {
      "name": "python"
    }
  },
  "cells": [
    {
      "cell_type": "markdown",
      "metadata": {
        "id": "view-in-github",
        "colab_type": "text"
      },
      "source": [
        "<a href=\"https://colab.research.google.com/github/AyngaranKrishnamurthy/CS625-Data-Visualization/blob/main/CS625_DataVisualization_01276065.ipynb\" target=\"_parent\"><img src=\"https://colab.research.google.com/assets/colab-badge.svg\" alt=\"Open In Colab\"/></a>"
      ]
    },
    {
      "cell_type": "markdown",
      "source": [
        "#Author Info"
      ],
      "metadata": {
        "id": "OohgVSYiawht"
      }
    },
    {
      "cell_type": "markdown",
      "source": [
        "###Name: Ayngaran Krishnamurthy (01276065)\n",
        "*   [Mail](mailto:akris004@odu.edu)\n",
        "*   [Github](https://ayngarankrishnamurthy.github.io)\n",
        "*   [LinkedIn](https://github.com/AyngaranKrishnamurthy)\n",
        "*   [Portfolio](https://www.ayngarankrishnamurthy.com)"
      ],
      "metadata": {
        "id": "MuKf04g6bw6k"
      }
    }
  ]
}